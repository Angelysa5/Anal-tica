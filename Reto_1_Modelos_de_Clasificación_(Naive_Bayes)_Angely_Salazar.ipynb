{
  "nbformat": 4,
  "nbformat_minor": 0,
  "metadata": {
    "colab": {
      "provenance": [],
      "authorship_tag": "ABX9TyMiMzCRy5BB0s1/MHiCgNAF",
      "include_colab_link": true
    },
    "kernelspec": {
      "name": "python3",
      "display_name": "Python 3"
    },
    "language_info": {
      "name": "python"
    }
  },
  "cells": [
    {
      "cell_type": "markdown",
      "metadata": {
        "id": "view-in-github",
        "colab_type": "text"
      },
      "source": [
        "<a href=\"https://colab.research.google.com/github/Angelysa5/Anal-tica/blob/main/Reto_1_Modelos_de_Clasificaci%C3%B3n_(Naive_Bayes)_Angely_Salazar.ipynb\" target=\"_parent\"><img src=\"https://colab.research.google.com/assets/colab-badge.svg\" alt=\"Open In Colab\"/></a>"
      ]
    },
    {
      "cell_type": "markdown",
      "source": [
        "**Reto 1 – Modelos de Clasificación (Naive Bayes)**\n",
        "\n",
        "De acuerdo con la base de datos Longitudinal Survey (Apendice A, Conjunto 5: Datos de Levantamiento Longitudinal del Libro Guía Analítica de Negocios Comunicación con Datos), llevar a cabo la implementación de un modelo Naive Bayes para determinar si una persona vive en un área urbana o en un área rural.\n"
      ],
      "metadata": {
        "id": "5-7ALdK9oFco"
      }
    },
    {
      "cell_type": "code",
      "source": [
        "#Se carga el archivo de excel con la base de datos a trabajar.\n",
        "#Se procede con la carga de las librerías de trabajo.\n",
        "\n",
        "import numpy as np #Librería que permite las funciones matemáticas\n",
        "import pandas as pd #Librería que permite comunicación con Excel\n",
        "from sklearn.naive_bayes import GaussianNB #función Gaussiana\n",
        "from sklearn.metrics import confusion_matrix #La métrica de medida"
      ],
      "metadata": {
        "id": "jr2hto8ypzjv"
      },
      "execution_count": null,
      "outputs": []
    },
    {
      "cell_type": "markdown",
      "source": [
        "1. Se procede con la carga de los datos."
      ],
      "metadata": {
        "id": "BvAhcdXoqVTQ"
      }
    },
    {
      "cell_type": "code",
      "source": [
        "nxl = '/content/1. BD1_Longitudinal Survey_Int.xlsx'\n",
        "\n",
        "XDB=pd.read_excel(nxl,sheet_name=0) #Se traen los datos necesarios = DataFrame\n",
        "\n",
        "#Seleccionamos las variables de interés =\n",
        "#Variables socioeconómicas como: Edad, Educación de los Padres, Estatura, Peso, Ingresos, Escala de Autoestima, Tamaño de la Familia.\n",
        "\n",
        "XDB=XDB[['Age','Mother_Edu','Father_Edu','Height','Weight','Income','Self_Esteem','FamilySize','Urban']]\n",
        "\n",
        "XDB=XDB.dropna() #Eliminar datos faltantes, celdas vacías\n",
        "print(XDB)\n"
      ],
      "metadata": {
        "colab": {
          "base_uri": "https://localhost:8080/"
        },
        "id": "av2mX-UZqZ57",
        "outputId": "290fbe5e-383a-4241-f3af-f87b001a249f"
      },
      "execution_count": null,
      "outputs": [
        {
          "output_type": "stream",
          "name": "stdout",
          "text": [
            "       Age  Mother_Edu  Father_Edu  Height  Weight   Income  Self_Esteem  \\\n",
            "1       20         5.0         8.0    62.0   120.0      0.0         16.0   \n",
            "5       19        12.0        12.0    64.0   200.0  40000.0         27.0   \n",
            "6       15        12.0        12.0    65.0   131.0  25000.0         26.0   \n",
            "7       21         9.0         6.0    65.0   179.0  27400.0         23.0   \n",
            "8       16        12.0        10.0    66.0   145.0  52000.0         26.0   \n",
            "...    ...         ...         ...     ...     ...      ...          ...   \n",
            "12557   20        12.0        12.0    60.0   110.0   1000.0         20.0   \n",
            "12565   20        12.0        11.0    63.0   152.0  38000.0         24.0   \n",
            "12647   21        16.0        12.0    70.0   180.0  43600.0         30.0   \n",
            "12651   21        16.0        16.0    73.0   170.0  40000.0         27.0   \n",
            "12678   21         8.0         8.0    70.0   180.0  17000.0         19.0   \n",
            "\n",
            "       FamilySize  Urban  \n",
            "1               5    1.0  \n",
            "5               4    1.0  \n",
            "6               3    1.0  \n",
            "7               3    1.0  \n",
            "8               6    1.0  \n",
            "...           ...    ...  \n",
            "12557           5    1.0  \n",
            "12565           2    1.0  \n",
            "12647           1    1.0  \n",
            "12651           1    1.0  \n",
            "12678           1    0.0  \n",
            "\n",
            "[5948 rows x 9 columns]\n"
          ]
        }
      ]
    },
    {
      "cell_type": "code",
      "source": [
        "total_datos = len(XDB)\n",
        "print(\"En la base de datos hay\", total_datos, \"datos.\")"
      ],
      "metadata": {
        "colab": {
          "base_uri": "https://localhost:8080/"
        },
        "id": "F2aNkLU2y57X",
        "outputId": "7da10698-a16d-48b3-bb06-fc26a955f37e"
      },
      "execution_count": null,
      "outputs": [
        {
          "output_type": "stream",
          "name": "stdout",
          "text": [
            "En la base de datos hay 5948 datos.\n"
          ]
        }
      ]
    },
    {
      "cell_type": "markdown",
      "source": [
        "**¿Cuál es el número de datos total de la base de datos?**\n",
        "\n",
        "R= Como lo muestra por pantalla el código, hay 5.948 datos en total."
      ],
      "metadata": {
        "id": "HTqD3X3sz3gK"
      }
    },
    {
      "cell_type": "code",
      "source": [
        "#Convertir el dataframe a números\n",
        "XD = np.array(XDB[['Age','Mother_Edu','Father_Edu','Height','Weight','Income','Self_Esteem','FamilySize']])\n",
        "\n",
        "#Datos de Salida - Valor Deseado - que quiero que aprenda el modelo\n",
        "yd = np.array(XDB[['Urban']])\n",
        "\n",
        "\n",
        "\n",
        "#Porcentaje Urbano\n",
        "len(XD)\n",
        "len(np.where(yd==1)[0])\n",
        "\n",
        "len(np.where(yd==1)[0])/len(XD)\n",
        "print(\"El porcentaje de los datos de personas que viven en el área urbana es de:\", len(np.where(yd==1)[0])/len(XD))\n",
        "\n",
        "\n",
        "#Porcentaje Rural\n",
        "len(XD)\n",
        "len(np.where(yd==0)[0])\n",
        "\n",
        "len(np.where(yd==0)[0])/len(XD)\n",
        "print(\"El porcentaje de los datos de personas que viven en el área rural es de:\", len(np.where(yd==0)[0])/len(XD))"
      ],
      "metadata": {
        "colab": {
          "base_uri": "https://localhost:8080/"
        },
        "id": "G_9u0HN_3z4P",
        "outputId": "6af9ce31-871f-4017-d361-e81444afbd6e"
      },
      "execution_count": null,
      "outputs": [
        {
          "output_type": "stream",
          "name": "stdout",
          "text": [
            "El porcentaje de los datos de personas que viven en el área urbana es de: 0.7916946872898454\n",
            "El porcentaje de los datos de personas que viven en el área rural es de: 0.20830531271015468\n"
          ]
        }
      ]
    },
    {
      "cell_type": "markdown",
      "source": [
        "**¿Cuál es el porcentaje de los datos que hacen parte de cada una de las categorías de clasificación?**\n",
        "\n",
        "El 79.1% vive en el área URBANA.\n",
        "\n",
        "El 20.8% vive en el área RURAL."
      ],
      "metadata": {
        "id": "N7LcZs8_0i3Y"
      }
    },
    {
      "cell_type": "code",
      "source": [
        "#Se procede a implementar el modelo\n",
        "mnb = GaussianNB() #Llamamos al modelo\n",
        "mnb.fit(XD,yd)\n",
        "ydp = mnb.predict(XD) #Muestra los datos de salida QUE ÉL OBTUVO\n",
        "\n",
        "\n",
        "\n",
        "#Parámetros del Modelo por Categoría - Recordar = Rural 0 (arriba)- Urbano 1(abajo)\n",
        "\n",
        "u = mnb.theta_ #Dígame las MEDIAS de las variables para cada categoría\n",
        "#u = miu\n",
        "\n",
        "sigma = np.sqrt(mnb.var_) #Dígame las VARIANZAS de las variables para cada categoría\n",
        "\n",
        "\n",
        "#Variaciones\n",
        "LI = u-sigma #Límite inferior\n",
        "LS = u+sigma #Límite superior\n",
        "\n",
        "print(\"La medida de las variables por categoría:\")\n",
        "print(u)\n",
        "print()\n",
        "print(\"El límite inferior de la variación de las variables de la categoría es:\")\n",
        "print(LI)\n",
        "print()\n",
        "print(\"El límite superior de la variación de las variables de la categoría es:\")\n",
        "print(LS)\n"
      ],
      "metadata": {
        "colab": {
          "base_uri": "https://localhost:8080/"
        },
        "id": "IEppBFkes_fb",
        "outputId": "d8185d39-a907-40aa-edea-ac6ea237cf4b"
      },
      "execution_count": null,
      "outputs": [
        {
          "output_type": "stream",
          "name": "stdout",
          "text": [
            "La medida de las variables por categoría:\n",
            "[[1.83640032e+01 1.07312349e+01 1.02711864e+01 6.72429379e+01\n",
            "  1.49003228e+02 3.01248854e+04 2.19951574e+01 4.73930589e+00]\n",
            " [1.83618603e+01 1.11613931e+01 1.12331705e+01 6.69116585e+01\n",
            "  1.44750903e+02 3.32736742e+04 2.25744319e+01 4.68103631e+00]]\n",
            "\n",
            "El límite inferior de la variación de las variables de la categoría es:\n",
            "[[ 1.58913978e+01  7.57462359e+00  6.38281079e+00  6.31606515e+01\n",
            "   1.18654593e+02 -1.52335198e+03  1.77786493e+01  2.18703841e+00]\n",
            " [ 1.58884167e+01  7.76073072e+00  7.11767172e+00  6.27097275e+01\n",
            "   1.14722372e+02 -2.81605593e+03  1.83768011e+01  2.23897780e+00]]\n",
            "\n",
            "El límite superior de la variación de las variables de la categoría es:\n",
            "[[2.08366087e+01 1.38878461e+01 1.41595621e+01 7.13252242e+01\n",
            "  1.79351863e+02 6.17731228e+04 2.62116655e+01 7.29157338e+00]\n",
            " [2.08353039e+01 1.45620554e+01 1.53486693e+01 7.11135895e+01\n",
            "  1.74779433e+02 6.93634044e+04 2.67720628e+01 7.12309482e+00]]\n"
          ]
        },
        {
          "output_type": "stream",
          "name": "stderr",
          "text": [
            "/usr/local/lib/python3.10/dist-packages/sklearn/utils/validation.py:1183: DataConversionWarning: A column-vector y was passed when a 1d array was expected. Please change the shape of y to (n_samples, ), for example using ravel().\n",
            "  y = column_or_1d(y, warn=True)\n"
          ]
        }
      ]
    },
    {
      "cell_type": "markdown",
      "source": [
        "**Determinar el intervalo en el cual se encuentra la variación de la Edad**\n",
        "\n",
        "R = 15-20 años\n",
        "\n",
        "La edad de las personas que viven en el área RURAL está entre los *15 y los 20* años.\n",
        "\n",
        "La edad de las personas que viven en el área URBANA está entre los *15 y los 20* años.\n",
        "\n",
        "**Determinar el intervalo en el cual se encuentra la variación de la Altura**\n",
        "\n",
        "R = Rural 63-71 y Urbano 62-71.\n",
        "\n",
        "La altura de las personas que viven en el área RURAL está entre los *63 y 71*.\n",
        "\n",
        "La altura  de las personas que viven en el área URBANA está entre los *62 y 71*.\n",
        "\n",
        "**Determinar el intervalo en el cual se encuentra la variación del Peso de las Personas**\n",
        "\n",
        "R = Rural 118-179 y Urbano 114-174\n",
        "\n",
        "El peso de las personas que viven en el área RURAL está entre 118 y 179\n",
        "\n",
        "El peso de las personas que viven en el área URBANA está entre 114 y 174"
      ],
      "metadata": {
        "id": "1lM49pGV3fkj"
      }
    },
    {
      "cell_type": "code",
      "source": [
        "#Métrica de Evaluación - cómo se comportó el modelo identificando si es rural o urbano\n",
        "\n",
        "#Matriz de Confusión\n",
        "cm = confusion_matrix(yd,ydp)\n",
        "#CTR + SHIFT + ENTER"
      ],
      "metadata": {
        "colab": {
          "base_uri": "https://localhost:8080/"
        },
        "id": "IlmCbtbmtcSp",
        "outputId": "950333f3-9b06-4065-e27a-e10597dde085"
      },
      "execution_count": null,
      "outputs": [
        {
          "output_type": "execute_result",
          "data": {
            "text/plain": [
              "array([[   3, 1236],\n",
              "       [   8, 4701]])"
            ]
          },
          "metadata": {},
          "execution_count": 8
        }
      ]
    },
    {
      "cell_type": "code",
      "source": [
        "#Se procede con la evaluación del modelo\n",
        "VN = cm[0,0] #Verdaderos Negativos\n",
        "FP = cm[0,1] #Falsos Positivos\n",
        "FN = cm[1,0] #Falsos Negativos\n",
        "VP = cm[1,1] #Verdaderos Positivos\n",
        "\n",
        "Exactitud = (VP+VN)/len(XD)\n",
        "print(\"La Exactitud es: \", Exactitud) #Comportamiento General\n",
        "\n",
        "#Modelo que esté superior al 75% está súper bien\n",
        "\n",
        "#Tasa de Error\n",
        "TE = (FN+FP)/len(XD)\n",
        "print(\"La Tasa de Error es: \", TE) #Porcentaje Equivocaciones que tuvo el modelo\n",
        "\n",
        "Sensibilidad = VP/(VP+FP)\n",
        "print(\"La Sensibilidad es:\", Sensibilidad) #Cómo se comportó frente a los positivos\n",
        "\n",
        "Especificidad = VN/(VN+FN)\n",
        "print(\"la Especificidad es:\", Especificidad) #Cómo se comportó frente a los negativos\n"
      ],
      "metadata": {
        "colab": {
          "base_uri": "https://localhost:8080/"
        },
        "id": "Ur3lYAcst2ho",
        "outputId": "a1181402-b6ac-4995-8166-bccd8a75f728"
      },
      "execution_count": null,
      "outputs": [
        {
          "output_type": "stream",
          "name": "stdout",
          "text": [
            "La Exactitud es:  0.7908540685944856\n",
            "La Tasa de Error es:  0.20914593140551446\n",
            "La Sensibilidad es: 0.7918140474987367\n",
            "la Especificidad es: 0.2727272727272727\n"
          ]
        }
      ]
    },
    {
      "cell_type": "markdown",
      "source": [
        "**¿Cuál es la exactitud alcanzada por el modelo?**\n",
        "\n",
        "R = 79%\n",
        "\n",
        "**¿Cuál es la tasa de error alcanzada por el modelo?**\n",
        "\n",
        "R = 20%\n",
        "\n",
        "**¿Cuál es la Sensibilidad alcanzada por el modelo?**\n",
        "\n",
        "R = 79%\n",
        "\n",
        "**¿Cuál es la Especificidad alcanzada por el modelo?**\n",
        "\n",
        "R = 27%\n"
      ],
      "metadata": {
        "id": "YCf-XmZrt_Eo"
      }
    },
    {
      "cell_type": "code",
      "source": [
        "Xun = np.array([[34,9,6,65,135,50000,30,3]]) #estas son las variables particulares de la persona del Excel que deseo analizar\n",
        "ydun = mnb.predict(Xun)\n",
        "print(ydun)\n",
        "\n",
        "#Como se observa por pantalla, esta persona pertenece al grupo de 1, es decir, es una persona que vive en la CIUDAD."
      ],
      "metadata": {
        "colab": {
          "base_uri": "https://localhost:8080/"
        },
        "id": "EZGC78bjub75",
        "outputId": "b7131f7b-8c57-46ea-ee85-bc12af5ca571"
      },
      "execution_count": null,
      "outputs": [
        {
          "output_type": "stream",
          "name": "stdout",
          "text": [
            "[1.]\n"
          ]
        }
      ]
    },
    {
      "cell_type": "markdown",
      "source": [
        "**¿Qué pasa cuando deseo analizar una sola persona?**\n",
        "\n",
        "Para una persona con las siguientes características: ['Age','Mother_Edu','Father_Edu','Height','Weight','Income','Self_Esteem','FamilySize']=[34,9,6,65,135,50000,30,3]\n",
        "\n",
        "¿vive en la ciudad o en el área rural?\n",
        "\n",
        "**R =** Una persona con dichas características vive en la **CIUDAD.**"
      ],
      "metadata": {
        "id": "46Ld-NCbvNxA"
      }
    },
    {
      "cell_type": "markdown",
      "source": [
        "**ANÁLISIS DE RESULTADOS:**\n",
        "\n",
        "De los resultados arrojados por el modelo que aborda 5.948 datos de los cuales el 20.8% hace referencia a aquellos usuarios que viven en un área rural y 79.1% a aquellos que viven en un área urbana, se puede observar que la variación de la edad a analizar se encuentra entre los 15 y los 20 años, pero en términos generales, aunque no es una diferencia demasiado abismal, las personas que viven en las áreas rurales respecto a la altura(63-71) y el peso(118-179), tiende a tener valores más altos que aquellas personas que viven en el área urbana las cuales tienen una altura entre (62-71) y un peso entre (114-174).\n",
        "\n",
        "Con respecto a las métricas se puede observar que el modelo funcionó mejor clasificando los positivos, como lo dice el indicador de Sensibilidad el cual alcanzó el 79% de certeza.\n",
        "\n",
        "Analizando en conjunto, se puede observar que el modelo logró una exactitud del 79% lo cual es un excelente indicador ya que supera el mínimo 72% esperado para poder ser determinado como un buen porcentaje de exactitud que a su vez lo convierte en un buen modelo, además, se obtuvo una especificidad del 27% y una tasa de error cercana al 20% en promedio.\n",
        "\n",
        "Con respecto a la persona de la cual no se tiene certeza de si vive en la ciudad o en el campo, al caracterizarse por tener una edad de 34 años, una madre con un nivel educativo de 9, un padre con un nivel educativo de 6, una altura de 65, un peso de 135, unos ingresos de 50.000, una escala de autoestima de 30 y un tamaño de familia de 3 miembros, se logra concluir que este personaje pertenece a la categoría 1, lo que nos indica que vive en el área urbana."
      ],
      "metadata": {
        "id": "Lrt7gh1Nk1cr"
      }
    }
  ]
}